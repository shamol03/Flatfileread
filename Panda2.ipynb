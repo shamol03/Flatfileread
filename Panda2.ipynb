{
 "cells": [
  {
   "cell_type": "code",
   "execution_count": 31,
   "id": "939ec34b-0d5a-449d-bb3f-3d0ebf52ef0e",
   "metadata": {},
   "outputs": [],
   "source": [
    "# for read flat file from our root pathe where python file is there we import panda\n",
    "import pandas as pd\n",
    "# Load a CSV fole Cutomers \n",
    "customers_df=pd.read_csv('Customers.csv')\n",
    "# Data showing from Customers file\n",
    "#print (customers_df)\n",
    "# we want few columns ...\n",
    "#customers_df=customers_df[['CustomerID','Name']]\n",
    "#print (customers_df)\n",
    "# Load a CSV fole Cookietypes \n",
    "Cookietypes_df=pd.read_csv('Cookietypes.csv')\n",
    "#print (Cookietypes_df)\n",
    "# Load a CSV fole Orders \n",
    "Orders_df=pd.read_csv('Orders.csv')\n",
    "#print (Orders_df.head(10))\n",
    "# merge 2 csv file Orders and Cookietypes . There are common column as Product\n",
    "merge_df=pd.merge(Orders_df,Cookietypes_df,on='Product', how='inner')\n",
    "#print(merge_df.head())\n",
    "# Customer Name, Orderid, Product, Unitsold, Date, RevenuePerCookie  ,CostPerCookie  , City \n",
    "merge_df=pd.merge(merge_df,customers_df,on='CustomerID', how='inner')\n",
    "#print(merge_df.head())\n",
    "merge_df_sc=merge_df[['Name','City','OrderID','Product','UnitsSold','Date','RevenuePerCookie','CostPerCookie']]\n",
    "#print(merge_df_sc.head())\n",
    "# Customer Name, Orderid, Product, Unitsold, TotalSalesperOrder\n",
    "#merge_df_sc=merge_df[['Name','City','OrderID','Product','UnitsSold']]\n",
    "#print(merge_df_sc.head())\n",
    "#merge_df_sc['TotalSalesperOrder']=merge_df['UnitsSold']* merge_df['RevenuePerCookie']\n",
    "#print (merge_df_sc.head())\n",
    "# City wise total sales \n",
    "#citysales_df=merge_df_sc.groupby('City').agg(CityWsales=('TotalSalesperOrder','sum')).reset_index()\n",
    "#print (citysales_df)\n",
    "#citysales_df=citysales_df.sort_values(by='CityWsales')\n",
    "#print(citysales_df)\n",
    "merge_df_sc.to_csv('Customized.csv')\n",
    "\n",
    "###'Name','City','OrderID','Product','UnitsSold',TotalCostsperOrder\n",
    "\n",
    "\n"
   ]
  },
  {
   "cell_type": "code",
   "execution_count": null,
   "id": "89c1d291-5f57-4884-aec3-91497357f49d",
   "metadata": {},
   "outputs": [],
   "source": []
  }
 ],
 "metadata": {
  "kernelspec": {
   "display_name": "Python 3 (ipykernel)",
   "language": "python",
   "name": "python3"
  },
  "language_info": {
   "codemirror_mode": {
    "name": "ipython",
    "version": 3
   },
   "file_extension": ".py",
   "mimetype": "text/x-python",
   "name": "python",
   "nbconvert_exporter": "python",
   "pygments_lexer": "ipython3",
   "version": "3.13.0"
  }
 },
 "nbformat": 4,
 "nbformat_minor": 5
}
